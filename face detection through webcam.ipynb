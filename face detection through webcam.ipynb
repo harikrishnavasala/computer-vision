{
 "cells": [
  {
   "cell_type": "code",
   "execution_count": null,
   "metadata": {},
   "outputs": [],
   "source": [
    "# importing ncessary pacakges\n",
    "import numpy as np\n",
    "import cv2\n",
    "from imutils.video import VideoStream\n",
    "import time"
   ]
  },
  {
   "cell_type": "code",
   "execution_count": null,
   "metadata": {},
   "outputs": [],
   "source": [
    "# loading our serialized model from disk\n",
    "print('[INFO] loading model')\n",
    "net = cv2.dnn.readNetFromCaffe(\"C:\\\\d disk\\\\pyimage search\\\\opencv face detection\\\\deep-learning-face-detection\\\\deploy.prototxt.txt\",\"C:\\\\d disk\\\\pyimage search\\\\opencv face detection\\\\deep-learning-face-detection\\\\res10_300x300_ssd_iter_140000.caffemodel\")\n",
    "# initializing the video stream and allow the camera sensor to warm up\n",
    "vs = VideoStream(src = 0).start()\n",
    "time.sleep(0)\n",
    "\n"
   ]
  },
  {
   "cell_type": "code",
   "execution_count": null,
   "metadata": {},
   "outputs": [],
   "source": [
    "# loop over the frames from the video stream\n",
    "import imutils\n",
    "import cv2\n",
    "while True:\n",
    "\t# grab the frame from the threaded video stream and resize it\n",
    "\t# to have a maximum width of 400 pixels\n",
    "\tframe = vs.read()\n",
    "\tframe = imutils.resize(frame, width=400)\n",
    "    frame = cv2.flip(frame,1)\n",
    " \n",
    "\t# grab the frame dimensions and convert it to a blob\n",
    "\t(h, w) = frame.shape[:2]\n",
    "\tblob = cv2.dnn.blobFromImage(cv2.resize(frame, (300, 300)), 1.0,\n",
    "\t\t(300, 300), (104.0, 177.0, 123.0))\n",
    " \n",
    "\t# pass the blob through the network and obtain the detections and\n",
    "\t# predictions\n",
    "\tnet.setInput(blob)\n",
    "\tdetections = net.forward()\n",
    "    \t# loop over the detections\n",
    "\tfor i in range(0, detections.shape[2]):\n",
    "\t\t# extract the confidence (i.e., probability) associated with the\n",
    "\t\t# prediction\n",
    "\t\tconfidence = detections[0, 0, i, 2]\n",
    " \n",
    "\t\t# filter out weak detections by ensuring the `confidence` is\n",
    "\t\t# greater than the minimum confidence\n",
    "\t\tif confidence < 0.5:\n",
    "\t\t\tcontinue\n",
    " \n",
    "\t\t# compute the (x, y)-coordinates of the bounding box for the\n",
    "\t\t# object\n",
    "\t\tbox = detections[0, 0, i, 3:7] * np.array([w, h, w, h])\n",
    "\t\t(startX, startY, endX, endY) = box.astype(\"int\")\n",
    " \n",
    "\t\t# draw the bounding box of the face along with the associated\n",
    "\t\t# probability\n",
    "\t\ttext = \"{:.2f}%\".format(confidence * 100)\n",
    "\t\ty = startY - 10 if startY - 10 > 10 else startY + 10\n",
    "\t\tcv2.rectangle(frame, (startX, startY), (endX, endY),\n",
    "\t\t\t(0, 0, 255), 2)\n",
    "\t\tcv2.putText(frame, text, (startX, y),\n",
    "\t\t\tcv2.FONT_HERSHEY_SIMPLEX, 0.45, (0, 0, 255), 2)\n",
    "        \t# show the output frame\n",
    "\tcv2.imshow(\"Frame\", frame)\n",
    "\tkey = cv2.waitKey(1) & 0xFF\n",
    " \n",
    "\t# if the `q` key was pressed, break from the loop\n",
    "\tif key == ord(\"q\"):\n",
    "\t\tbreak\n",
    "# do a bit of clean up\n",
    "cv2.destroyAllWindows()\n",
    "vs.stop()"
   ]
  },
  {
   "cell_type": "code",
   "execution_count": null,
   "metadata": {},
   "outputs": [],
   "source": []
  },
  {
   "cell_type": "code",
   "execution_count": null,
   "metadata": {},
   "outputs": [],
   "source": []
  }
 ],
 "metadata": {
  "kernelspec": {
   "display_name": "Python 3",
   "language": "python",
   "name": "python3"
  },
  "language_info": {
   "codemirror_mode": {
    "name": "ipython",
    "version": 3
   },
   "file_extension": ".py",
   "mimetype": "text/x-python",
   "name": "python",
   "nbconvert_exporter": "python",
   "pygments_lexer": "ipython3",
   "version": "3.6.4"
  }
 },
 "nbformat": 4,
 "nbformat_minor": 2
}
