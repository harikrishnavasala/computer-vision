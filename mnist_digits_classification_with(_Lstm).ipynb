{
  "nbformat": 4,
  "nbformat_minor": 0,
  "metadata": {
    "colab": {
      "name": "mnist digits classification with( Lstm).ipynb",
      "provenance": [],
      "collapsed_sections": [],
      "machine_shape": "hm"
    },
    "kernelspec": {
      "name": "python3",
      "display_name": "Python 3"
    },
    "accelerator": "GPU"
  },
  "cells": [
    {
      "cell_type": "code",
      "metadata": {
        "id": "27FqhhxNOMGt",
        "colab_type": "code",
        "colab": {}
      },
      "source": [
        "# to increase RAM capacity in colab\n",
        "values = []\n",
        "while True:\n",
        "  values.append(\"hari\")"
      ],
      "execution_count": 0,
      "outputs": []
    },
    {
      "cell_type": "markdown",
      "metadata": {
        "id": "J0cxfFD8WOue",
        "colab_type": "text"
      },
      "source": [
        "# below is the simple mnist digit classification with LSTM"
      ]
    },
    {
      "cell_type": "code",
      "metadata": {
        "id": "wheufh3FMzzv",
        "colab_type": "code",
        "colab": {
          "base_uri": "https://localhost:8080/",
          "height": 119
        },
        "outputId": "4a59726f-9f11-4903-998a-0a89b8452c54"
      },
      "source": [
        "# importing required packages\n",
        "from keras.models import Sequential\n",
        "from keras.layers import Dense,Dropout\n",
        "from keras.layers import LSTM\n",
        "from keras.datasets import mnist\n",
        "# loading mnist dataset from keras\n",
        "(x_train,y_train),(x_test,y_test) = mnist.load_data()\n"
      ],
      "execution_count": 1,
      "outputs": [
        {
          "output_type": "stream",
          "text": [
            "Using TensorFlow backend.\n"
          ],
          "name": "stderr"
        },
        {
          "output_type": "display_data",
          "data": {
            "text/html": [
              "<p style=\"color: red;\">\n",
              "The default version of TensorFlow in Colab will soon switch to TensorFlow 2.x.<br>\n",
              "We recommend you <a href=\"https://www.tensorflow.org/guide/migrate\" target=\"_blank\">upgrade</a> now \n",
              "or ensure your notebook will continue to use TensorFlow 1.x via the <code>%tensorflow_version 1.x</code> magic:\n",
              "<a href=\"https://colab.research.google.com/notebooks/tensorflow_version.ipynb\" target=\"_blank\">more info</a>.</p>\n"
            ],
            "text/plain": [
              "<IPython.core.display.HTML object>"
            ]
          },
          "metadata": {
            "tags": []
          }
        },
        {
          "output_type": "stream",
          "text": [
            "Downloading data from https://s3.amazonaws.com/img-datasets/mnist.npz\n",
            "11493376/11490434 [==============================] - 1s 0us/step\n"
          ],
          "name": "stdout"
        }
      ]
    },
    {
      "cell_type": "code",
      "metadata": {
        "id": "KfSa7QLlVFbK",
        "colab_type": "code",
        "colab": {}
      },
      "source": [
        "from keras import optimizers"
      ],
      "execution_count": 0,
      "outputs": []
    },
    {
      "cell_type": "code",
      "metadata": {
        "id": "V4dunqT7O4td",
        "colab_type": "code",
        "colab": {
          "base_uri": "https://localhost:8080/",
          "height": 35
        },
        "outputId": "443004fb-335f-4eef-a9b5-ef20e9428d5d"
      },
      "source": [
        "print(x_train.shape)"
      ],
      "execution_count": 2,
      "outputs": [
        {
          "output_type": "stream",
          "text": [
            "(60000, 28, 28)\n"
          ],
          "name": "stdout"
        }
      ]
    },
    {
      "cell_type": "code",
      "metadata": {
        "id": "dmB89LLbPD78",
        "colab_type": "code",
        "colab": {
          "base_uri": "https://localhost:8080/",
          "height": 35
        },
        "outputId": "9964be6f-1bd6-4f22-fa4c-d15a52dfb3db"
      },
      "source": [
        "print(x_train.shape[1:])"
      ],
      "execution_count": 3,
      "outputs": [
        {
          "output_type": "stream",
          "text": [
            "(28, 28)\n"
          ],
          "name": "stdout"
        }
      ]
    },
    {
      "cell_type": "code",
      "metadata": {
        "id": "dxlglHFrPSFr",
        "colab_type": "code",
        "colab": {}
      },
      "source": [
        "# normalizing training data\n",
        "x_train = x_train/255.0\n",
        "x_test = x_test/255.0"
      ],
      "execution_count": 0,
      "outputs": []
    },
    {
      "cell_type": "code",
      "metadata": {
        "id": "47ANXkgSPeby",
        "colab_type": "code",
        "colab": {
          "base_uri": "https://localhost:8080/",
          "height": 35
        },
        "outputId": "879374fb-4e18-48ab-ec32-990c01cc450a"
      },
      "source": [
        "print(x_train.shape)"
      ],
      "execution_count": 5,
      "outputs": [
        {
          "output_type": "stream",
          "text": [
            "(60000, 28, 28)\n"
          ],
          "name": "stdout"
        }
      ]
    },
    {
      "cell_type": "code",
      "metadata": {
        "id": "N1LxuHhDPeuA",
        "colab_type": "code",
        "colab": {
          "base_uri": "https://localhost:8080/",
          "height": 35
        },
        "outputId": "7e60a41b-1dfb-482f-b1f6-ab57cd216a83"
      },
      "source": [
        "print(x_train.dtype)"
      ],
      "execution_count": 6,
      "outputs": [
        {
          "output_type": "stream",
          "text": [
            "float64\n"
          ],
          "name": "stdout"
        }
      ]
    },
    {
      "cell_type": "code",
      "metadata": {
        "id": "HhZ7BNqvP_uj",
        "colab_type": "code",
        "colab": {
          "base_uri": "https://localhost:8080/",
          "height": 35
        },
        "outputId": "cf90ada7-d188-4de8-8d3d-4afd872a98ea"
      },
      "source": [
        "print(x_train.shape[0])"
      ],
      "execution_count": 7,
      "outputs": [
        {
          "output_type": "stream",
          "text": [
            "60000\n"
          ],
          "name": "stdout"
        }
      ]
    },
    {
      "cell_type": "code",
      "metadata": {
        "id": "ze8SHsTPPo0K",
        "colab_type": "code",
        "colab": {
          "base_uri": "https://localhost:8080/",
          "height": 217
        },
        "outputId": "c52539da-c788-41ef-d8e7-84b31c77e57e"
      },
      "source": [
        "model = Sequential()\n",
        "model.add(LSTM(128,input_shape = (x_train.shape[1:]),activation = 'relu',return_sequences = True))\n",
        "model.add(Dropout(0.2))\n",
        "model.add(LSTM(128,activation = 'relu'))\n",
        "model.add(Dropout(0.1))\n",
        "model.add(Dense(32,activation = 'relu'))\n",
        "model.add(Dropout(0.2))\n",
        "model.add(Dense(10,activation = 'softmax'))\n",
        "adam = optimizers.Adam(lr= 0.001,decay = 1e-6)\n",
        "model.compile(loss = 'sparse_categorical_crossentropy',optimizer = adam,metrics = ['accuracy'])\n",
        "model.fit(x_train,y_train,epochs = 4,batch_size = 32)\n",
        "# finally evaluate model\n",
        "scores = model.evaluate(x_test,y_test,verbose = 0)\n",
        "print(\"scores[0]:\",scores[0])\n",
        "print(\"scores[1]:\",scores[1])\n",
        "print(\"accuracy: %.2f%%\" % (scores[1] * 100))\n",
        "\n",
        "\n"
      ],
      "execution_count": 20,
      "outputs": [
        {
          "output_type": "stream",
          "text": [
            "Epoch 1/4\n",
            "60000/60000 [==============================] - 207s 3ms/step - loss: 0.6795 - acc: 0.7758\n",
            "Epoch 2/4\n",
            "60000/60000 [==============================] - 203s 3ms/step - loss: 0.1553 - acc: 0.9571\n",
            "Epoch 3/4\n",
            "60000/60000 [==============================] - 203s 3ms/step - loss: 0.1070 - acc: 0.9712\n",
            "Epoch 4/4\n",
            "60000/60000 [==============================] - 202s 3ms/step - loss: 0.0936 - acc: 0.9745\n",
            "scores[0]: 0.05996856763868418\n",
            "scores[1]: 0.9817\n",
            "accuracy: 98.17%\n"
          ],
          "name": "stdout"
        }
      ]
    },
    {
      "cell_type": "markdown",
      "metadata": {
        "id": "_E1EWgiCgdHo",
        "colab_type": "text"
      },
      "source": [
        "# resource for creating model\n",
        "\n",
        "https://becominghuman.ai/recurrent-neural-networks-rnn-deep-learning-w-python-tensorflow-keras-p-7-c21bc374d4dc"
      ]
    }
  ]
}